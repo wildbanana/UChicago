{
 "cells": [
  {
   "cell_type": "markdown",
   "metadata": {},
   "source": [
    "Because $p(x|y) \\propto ye^{-yx}$, $0<x<B<\\infty$, we can write $p(x|y)=a \\times ye^{-yx}$. \n",
    "\n",
    "We know $ 0 < x < B $, we get $a = \\frac {1}  {\\int_0^B \\! f(x) \\, \\mathrm{d}x} = \\frac {1} {1-e^{-By}}$.\n",
    "\n",
    "Now we can write $p(x|y) = \\frac {ye^{-yx}} {1-e^{-By}} $; similarly, $p(y|x) = \\frac {xe^{-yx}} {1-e^{-Bx}} $\n",
    "\n",
    "To use the inversion sampling, we need to first drawn a random variable u~U(0,1) and then inverting this draw using $F^{-1}$.\n",
    "\n",
    "Therefore, we calculate $F(x|y) = \\int_0^x f(x|y)dx = \\frac {1-e^{-yx}} {1-e^{-By}}$. \n",
    "\n",
    "Let $u = F(z)$\n",
    "\n",
    "$z = F^{-1}(u) = \\frac {\\log{(1- u \\times (1-e^{-yB}))}} {-y}$\n",
    "\n",
    "Given a draw of u and y, z is a draw from $p(x|y)$. The same can be done for $p(y|x)$ and we obtain that the function is\n",
    "$ \\frac {\\log{(1- u \\times (1-e^{-xB}))}} {-x}$ for drawing from the $p(y|x)$.\n",
    "\n",
    "We first choose an initial value for x and y as x0, y0 respectively within the range of 0 to B. Then, we generate a $u$ from the Uniform distribution [0,1], plug the value of u and y0 into the inversed function and get an updated x. Similarly, we will update y accordingly. Repeating the steps will generate a series of x and y's which forms our new distribution. \n",
    "\n",
    "See the code below:"
   ]
  },
  {
   "cell_type": "code",
   "execution_count": 1,
   "metadata": {
    "collapsed": true
   },
   "outputs": [],
   "source": [
    "import numpy as np\n",
    "import matplotlib.pyplot as plt\n",
    "def gibbs(x0,y0,B,n):\n",
    "    #setting empty arrays for storing values later\n",
    "    x = np.empty(n)\n",
    "    y = np.empty(n)\n",
    "    #a is simply a matrix form of x,y\n",
    "    a = np.empty([n,2])\n",
    "    #take x0, y0 as initial values for x, y\n",
    "    x[0] = x0\n",
    "    y[0] = y0\n",
    "    a[0] = (x0,y0)\n",
    "    for i in range(1,n):\n",
    "        #sample from f(x|y) using inversion method\n",
    "        #u1 is a random number generated from the uniform distribution\n",
    "        u1 = np.random.uniform(0,1)\n",
    "        x[i] = np.log(1-u1*(1-np.exp(-y[i-1]*B)))/(-y[i-1])\n",
    "        #sample from f(y|x) using inversion method\n",
    "        #u2 is a random number generated from the uniform distribution\n",
    "        u2 = np.random.uniform(0,1)\n",
    "        y[i] = np.log(1-u2*(1-np.exp(-x[i]*B)))/(-x[i])\n",
    "        #output the matrix formed by x and y\n",
    "        a[i] = (x[i],y[i])\n",
    "    return a"
   ]
  },
  {
   "cell_type": "markdown",
   "metadata": {},
   "source": [
    "Now, by choosing x=1, y=1 as starting point, B=5, and 500, 5000, 50000 as the number of iterations, we obtain matrices a1, a2, a3 which stored all values of x and y's we generated from each condition. Use matplotlib.pyplot package to plot the histograms below. As we can see, the more iterations we have done, the smoother the histogram. I think the values of x, y fluctuates the most at the beginning of the processes, but stablizes after it runs repeatedly. Therefore, if I have thrown out the first n x,y pairs we got, the estimation may even be better (built a burnIn part which throw out 0.1n numbers of the beginning iterations for example). But I choose not to do it here, to just maintain the full distribution of all iterations. "
   ]
  },
  {
   "cell_type": "code",
   "execution_count": 2,
   "metadata": {
    "scrolled": false
   },
   "outputs": [
    {
     "data": {
      "image/png": "[encoded data removed]",
      "text/plain": [
       "<matplotlib.figure.Figure at 0x1fe06a72128>"
      ]
     },
     "metadata": {},
     "output_type": "display_data"
    },
    {
     "data": {
      "image/png": "[encoded data removed]",
      "text/plain": [
       "<matplotlib.figure.Figure at 0x1fe03ffc240>"
      ]
     },
     "metadata": {},
     "output_type": "display_data"
    },
    {
     "data": {
      "image/png": "[encoded data removed]",
      "text/plain": [
       "<matplotlib.figure.Figure at 0x1fe07eb2710>"
      ]
     },
     "metadata": {},
     "output_type": "display_data"
    }
   ],
   "source": [
    "#histogram of X\n",
    "#Since B is 5, choose a number from 0 to 5 as a starting point\n",
    "a1 = gibbs(1,1,5,500)\n",
    "a2 = gibbs(1,1,5,5000)\n",
    "a3 = gibbs(1,1,5,50000)\n",
    "plt.hist(a1[:,[1]], 50, normed=1, facecolor='blue', alpha=0.5)\n",
    "plt.show()\n",
    "plt.hist(a2[:,[1]], 50, normed=1, facecolor='blue', alpha=0.5)\n",
    "plt.show()\n",
    "plt.hist(a3[:,[1]], 50, normed=1, facecolor='blue', alpha=0.5)\n",
    "plt.show()"
   ]
  },
  {
   "cell_type": "markdown",
   "metadata": {},
   "source": [
    "As we can see below, the means the x's generated by different sample sizes are close together but much closer between 500 and 5000 iterations. I use the mean for 50000 samples to estimate E(x) = 1.26"
   ]
  },
  {
   "cell_type": "code",
   "execution_count": 3,
   "metadata": {},
   "outputs": [
    {
     "data": {
      "text/plain": [
       "1.1025351850735874"
      ]
     },
     "execution_count": 3,
     "metadata": {},
     "output_type": "execute_result"
    }
   ],
   "source": [
    "np.mean(a1[:,[1]])"
   ]
  },
  {
   "cell_type": "code",
   "execution_count": 4,
   "metadata": {},
   "outputs": [
    {
     "data": {
      "text/plain": [
       "1.2212020871201978"
      ]
     },
     "execution_count": 4,
     "metadata": {},
     "output_type": "execute_result"
    }
   ],
   "source": [
    "np.mean(a2[:,[1]])"
   ]
  },
  {
   "cell_type": "code",
   "execution_count": 5,
   "metadata": {},
   "outputs": [
    {
     "data": {
      "text/plain": [
       "1.2569038436080349"
      ]
     },
     "execution_count": 5,
     "metadata": {},
     "output_type": "execute_result"
    }
   ],
   "source": [
    "np.mean(a3[:,[1]])"
   ]
  }
 ],
 "metadata": {
  "kernelspec": {
   "display_name": "Python 3",
   "language": "python",
   "name": "python3"
  },
  "language_info": {
   "codemirror_mode": {
    "name": "ipython",
    "version": 3
   },
   "file_extension": ".py",
   "mimetype": "text/x-python",
   "name": "python",
   "nbconvert_exporter": "python",
   "pygments_lexer": "ipython3",
   "version": "3.6.2"
  }
 },
 "nbformat": 4,
 "nbformat_minor": 2
}
